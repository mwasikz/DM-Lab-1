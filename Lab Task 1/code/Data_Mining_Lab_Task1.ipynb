{
 "cells": [
  {
   "cell_type": "code",
   "execution_count": 2,
   "metadata": {},
   "outputs": [
    {
     "name": "stdout",
     "output_type": "stream",
     "text": [
      "    Book   p1   p2 p3   p4 p5   p6 p7   p8\n",
      "0  book1  3.5    2  5    3  -    -  5    3\n",
      "1  book2    2  3.5  1    4  4  4.5  2    -\n",
      "2  book3    -    4  1  4.5  1    4  -    -\n",
      "3  book4  4.5    -  3    -  4    5  3    5\n",
      "4  book5    5    2  5    3  -    5  5    4\n",
      "5  book6  1.5  3.5  1  4.5  -  4.5  4  2.5\n",
      "6  book7  2.5    -  -    4  4    4  5    3\n",
      "7  book8    2    3  -    2  1    4  -    -\n"
     ]
    }
   ],
   "source": [
    "import pandas as pd\n",
    "from scipy.spatial import distance\n",
    "from scipy.spatial.distance import cityblock\n",
    "from tabulate import tabulate \n",
    "\n",
    "dataframe=pd.read_csv(\"dataset_review.csv\")\n",
    "print(dataframe)"
   ]
  },
  {
   "cell_type": "code",
   "execution_count": 3,
   "metadata": {},
   "outputs": [
    {
     "data": {
      "text/html": [
       "<div>\n",
       "<style scoped>\n",
       "    .dataframe tbody tr th:only-of-type {\n",
       "        vertical-align: middle;\n",
       "    }\n",
       "\n",
       "    .dataframe tbody tr th {\n",
       "        vertical-align: top;\n",
       "    }\n",
       "\n",
       "    .dataframe thead th {\n",
       "        text-align: right;\n",
       "    }\n",
       "</style>\n",
       "<table border=\"1\" class=\"dataframe\">\n",
       "  <thead>\n",
       "    <tr style=\"text-align: right;\">\n",
       "      <th></th>\n",
       "      <th>Book</th>\n",
       "      <th>p1</th>\n",
       "      <th>p2</th>\n",
       "      <th>p3</th>\n",
       "      <th>p4</th>\n",
       "      <th>p5</th>\n",
       "      <th>p6</th>\n",
       "      <th>p7</th>\n",
       "      <th>p8</th>\n",
       "    </tr>\n",
       "  </thead>\n",
       "  <tbody>\n",
       "    <tr>\n",
       "      <th>0</th>\n",
       "      <td>book1</td>\n",
       "      <td>3.5</td>\n",
       "      <td>2</td>\n",
       "      <td>5</td>\n",
       "      <td>3</td>\n",
       "      <td>NaN</td>\n",
       "      <td>NaN</td>\n",
       "      <td>5</td>\n",
       "      <td>3</td>\n",
       "    </tr>\n",
       "    <tr>\n",
       "      <th>1</th>\n",
       "      <td>book2</td>\n",
       "      <td>2</td>\n",
       "      <td>3.5</td>\n",
       "      <td>1</td>\n",
       "      <td>4</td>\n",
       "      <td>4</td>\n",
       "      <td>4.5</td>\n",
       "      <td>2</td>\n",
       "      <td>NaN</td>\n",
       "    </tr>\n",
       "    <tr>\n",
       "      <th>2</th>\n",
       "      <td>book3</td>\n",
       "      <td>NaN</td>\n",
       "      <td>4</td>\n",
       "      <td>1</td>\n",
       "      <td>4.5</td>\n",
       "      <td>1</td>\n",
       "      <td>4</td>\n",
       "      <td>NaN</td>\n",
       "      <td>NaN</td>\n",
       "    </tr>\n",
       "    <tr>\n",
       "      <th>3</th>\n",
       "      <td>book4</td>\n",
       "      <td>4.5</td>\n",
       "      <td>NaN</td>\n",
       "      <td>3</td>\n",
       "      <td>NaN</td>\n",
       "      <td>4</td>\n",
       "      <td>5</td>\n",
       "      <td>3</td>\n",
       "      <td>5</td>\n",
       "    </tr>\n",
       "    <tr>\n",
       "      <th>4</th>\n",
       "      <td>book5</td>\n",
       "      <td>5</td>\n",
       "      <td>2</td>\n",
       "      <td>5</td>\n",
       "      <td>3</td>\n",
       "      <td>NaN</td>\n",
       "      <td>5</td>\n",
       "      <td>5</td>\n",
       "      <td>4</td>\n",
       "    </tr>\n",
       "    <tr>\n",
       "      <th>5</th>\n",
       "      <td>book6</td>\n",
       "      <td>1.5</td>\n",
       "      <td>3.5</td>\n",
       "      <td>1</td>\n",
       "      <td>4.5</td>\n",
       "      <td>NaN</td>\n",
       "      <td>4.5</td>\n",
       "      <td>4</td>\n",
       "      <td>2.5</td>\n",
       "    </tr>\n",
       "    <tr>\n",
       "      <th>6</th>\n",
       "      <td>book7</td>\n",
       "      <td>2.5</td>\n",
       "      <td>NaN</td>\n",
       "      <td>NaN</td>\n",
       "      <td>4</td>\n",
       "      <td>4</td>\n",
       "      <td>4</td>\n",
       "      <td>5</td>\n",
       "      <td>3</td>\n",
       "    </tr>\n",
       "    <tr>\n",
       "      <th>7</th>\n",
       "      <td>book8</td>\n",
       "      <td>2</td>\n",
       "      <td>3</td>\n",
       "      <td>NaN</td>\n",
       "      <td>2</td>\n",
       "      <td>1</td>\n",
       "      <td>4</td>\n",
       "      <td>NaN</td>\n",
       "      <td>NaN</td>\n",
       "    </tr>\n",
       "  </tbody>\n",
       "</table>\n",
       "</div>"
      ],
      "text/plain": [
       "    Book   p1   p2   p3   p4   p5   p6   p7   p8\n",
       "0  book1  3.5    2    5    3  NaN  NaN    5    3\n",
       "1  book2    2  3.5    1    4    4  4.5    2  NaN\n",
       "2  book3  NaN    4    1  4.5    1    4  NaN  NaN\n",
       "3  book4  4.5  NaN    3  NaN    4    5    3    5\n",
       "4  book5    5    2    5    3  NaN    5    5    4\n",
       "5  book6  1.5  3.5    1  4.5  NaN  4.5    4  2.5\n",
       "6  book7  2.5  NaN  NaN    4    4    4    5    3\n",
       "7  book8    2    3  NaN    2    1    4  NaN  NaN"
      ]
     },
     "execution_count": 3,
     "metadata": {},
     "output_type": "execute_result"
    }
   ],
   "source": [
    "df=dataframe.replace('-',float(\"Nan\"))\n",
    "df"
   ]
  },
  {
   "cell_type": "code",
   "execution_count": 11,
   "metadata": {},
   "outputs": [],
   "source": [
    "#P1-P2 Distance"
   ]
  },
  {
   "cell_type": "code",
   "execution_count": 4,
   "metadata": {},
   "outputs": [],
   "source": [
    "df1_p1p2=df.drop([\"p3\",\"p4\",\"p5\",\"p6\",\"p7\",\"p8\"],axis=1)\n",
    "df2_p1p2=df1_p1p2[df1_p1p2[\"p1\"].notnull()]\n",
    "df2_p1p2=df2_p1p2[df2_p1p2[\"p2\"].notnull()]"
   ]
  },
  {
   "cell_type": "code",
   "execution_count": 5,
   "metadata": {},
   "outputs": [],
   "source": [
    "manhattanDistance_p1p2 = distance.cityblock(df2_p1p2['p1'].astype(float),df2_p1p2['p2'].astype(float))\n",
    "eucDistance_p1p2 = distance.euclidean(df2_p1p2['p1'].astype(float),df2_p1p2['p2'].astype(float))\n",
    "minkDistance_p1p2 = distance.minkowski(df2_p1p2['p1'].astype(float),df2_p1p2['p2'].astype(float),p=3)"
   ]
  },
  {
   "cell_type": "code",
   "execution_count": 14,
   "metadata": {},
   "outputs": [],
   "source": [
    "#P1-P3 Distance"
   ]
  },
  {
   "cell_type": "code",
   "execution_count": 6,
   "metadata": {},
   "outputs": [],
   "source": [
    "df1_p1p3=df.drop([\"p2\",\"p4\",\"p5\",\"p6\",\"p7\",\"p8\"],axis=1)\n",
    "df2_p1p3=df1_p1p3[df1_p1p3[\"p1\"].notnull()]\n",
    "df2_p1p3=df2_p1p3[df2_p1p3[\"p3\"].notnull()]"
   ]
  },
  {
   "cell_type": "code",
   "execution_count": 7,
   "metadata": {},
   "outputs": [],
   "source": [
    "manhattanDistance_p1p3 = distance.cityblock(df2_p1p3['p1'].astype(float),df2_p1p3['p3'].astype(float))\n",
    "eucDistance_p1p3 = distance.euclidean(df2_p1p3['p1'].astype(float),df2_p1p3['p3'].astype(float))\n",
    "minkDistance_p1p3 = distance.minkowski(df2_p1p3['p1'].astype(float),df2_p1p3['p3'].astype(float),p=3)"
   ]
  },
  {
   "cell_type": "code",
   "execution_count": 17,
   "metadata": {},
   "outputs": [],
   "source": [
    "#P1-P4 Distance"
   ]
  },
  {
   "cell_type": "code",
   "execution_count": 8,
   "metadata": {},
   "outputs": [],
   "source": [
    "df1_p1p4=df.drop([\"p2\",\"p3\",\"p5\",\"p6\",\"p7\",\"p8\"],axis=1)\n",
    "df2_p1p4=df1_p1p4[df1_p1p4[\"p1\"].notnull()]\n",
    "df2_p1p4=df2_p1p4[df2_p1p4[\"p4\"].notnull()]"
   ]
  },
  {
   "cell_type": "code",
   "execution_count": 9,
   "metadata": {},
   "outputs": [],
   "source": [
    "manhattanDistance_p1p4 = distance.cityblock(df2_p1p4['p1'].astype(float),df2_p1p4['p4'].astype(float))\n",
    "eucDistance_p1p4 = distance.euclidean(df2_p1p4['p1'].astype(float),df2_p1p4['p4'].astype(float))\n",
    "minkDistance_p1p4 = distance.minkowski(df2_p1p4['p1'].astype(float),df2_p1p4['p4'].astype(float),p=3)"
   ]
  },
  {
   "cell_type": "code",
   "execution_count": 20,
   "metadata": {},
   "outputs": [],
   "source": [
    "#P1-P5 Distance"
   ]
  },
  {
   "cell_type": "code",
   "execution_count": 10,
   "metadata": {},
   "outputs": [],
   "source": [
    "df1_p1p5=df.drop([\"p2\",\"p3\",\"p4\",\"p6\",\"p7\",\"p8\"],axis=1)\n",
    "df2_p1p5=df1_p1p5[df1_p1p5[\"p1\"].notnull()]\n",
    "df2_p1p5=df2_p1p5[df2_p1p5[\"p5\"].notnull()]"
   ]
  },
  {
   "cell_type": "code",
   "execution_count": 11,
   "metadata": {},
   "outputs": [],
   "source": [
    "manhattanDistance_p1p5 = distance.cityblock(df2_p1p5['p1'].astype(float),df2_p1p5['p5'].astype(float))\n",
    "eucDistance_p1p5 = distance.euclidean(df2_p1p5['p1'].astype(float),df2_p1p5['p5'].astype(float))\n",
    "minkDistance_p1p5 = distance.minkowski(df2_p1p5['p1'].astype(float),df2_p1p5['p5'].astype(float),p=3)"
   ]
  },
  {
   "cell_type": "code",
   "execution_count": 23,
   "metadata": {},
   "outputs": [],
   "source": [
    "#P1-P6 Distance"
   ]
  },
  {
   "cell_type": "code",
   "execution_count": 12,
   "metadata": {},
   "outputs": [],
   "source": [
    "df1_p1p6=df.drop([\"p2\",\"p3\",\"p4\",\"p5\",\"p7\",\"p8\"],axis=1)\n",
    "df2_p1p6=df1_p1p6[df1_p1p6[\"p1\"].notnull()]\n",
    "df2_p1p6=df2_p1p6[df2_p1p6[\"p6\"].notnull()]"
   ]
  },
  {
   "cell_type": "code",
   "execution_count": 13,
   "metadata": {},
   "outputs": [],
   "source": [
    "manhattanDistance_p1p6 = distance.cityblock(df2_p1p6['p1'].astype(float),df2_p1p6['p6'].astype(float))\n",
    "eucDistance_p1p6 = distance.euclidean(df2_p1p6['p1'].astype(float),df2_p1p6['p6'].astype(float))\n",
    "minkDistance_p1p6 = distance.minkowski(df2_p1p6['p1'].astype(float),df2_p1p6['p6'].astype(float),p=3)"
   ]
  },
  {
   "cell_type": "code",
   "execution_count": 26,
   "metadata": {},
   "outputs": [],
   "source": [
    "#P1-P7 Distance"
   ]
  },
  {
   "cell_type": "code",
   "execution_count": 14,
   "metadata": {},
   "outputs": [],
   "source": [
    "df1_p1p7=df.drop([\"p2\",\"p3\",\"p4\",\"p5\",\"p6\",\"p8\"],axis=1)\n",
    "df2_p1p7=df1_p1p7[df1_p1p7[\"p1\"].notnull()]\n",
    "df2_p1p7=df2_p1p7[df2_p1p7[\"p7\"].notnull()]"
   ]
  },
  {
   "cell_type": "code",
   "execution_count": 15,
   "metadata": {},
   "outputs": [],
   "source": [
    "manhattanDistance_p1p7 = distance.cityblock(df2_p1p7['p1'].astype(float),df2_p1p7['p7'].astype(float))\n",
    "eucDistance_p1p7 = distance.euclidean(df2_p1p7['p1'].astype(float),df2_p1p7['p7'].astype(float))\n",
    "minkDistance_p1p7 = distance.minkowski(df2_p1p7['p1'].astype(float),df2_p1p7['p7'].astype(float),p=3)"
   ]
  },
  {
   "cell_type": "code",
   "execution_count": 29,
   "metadata": {},
   "outputs": [],
   "source": [
    "#P1-P8 Distance"
   ]
  },
  {
   "cell_type": "code",
   "execution_count": 16,
   "metadata": {},
   "outputs": [],
   "source": [
    "df1_p1p8=df.drop([\"p2\",\"p3\",\"p4\",\"p5\",\"p6\",\"p7\"],axis=1)\n",
    "df2_p1p8=df1_p1p8[df1_p1p8[\"p1\"].notnull()]\n",
    "df2_p1p8=df2_p1p8[df2_p1p8[\"p8\"].notnull()]"
   ]
  },
  {
   "cell_type": "code",
   "execution_count": 17,
   "metadata": {},
   "outputs": [],
   "source": [
    "manhattanDistance_p1p8 = distance.cityblock(df2_p1p8['p1'].astype(float),df2_p1p8['p8'].astype(float))\n",
    "eucDistance_p1p8 = distance.euclidean(df2_p1p8['p1'].astype(float),df2_p1p8['p8'].astype(float))\n",
    "minkDistance_p1p8 = distance.minkowski(df2_p1p8['p1'].astype(float),df2_p1p8['p8'].astype(float),p=3)"
   ]
  },
  {
   "cell_type": "code",
   "execution_count": 18,
   "metadata": {},
   "outputs": [
    {
     "name": "stdout",
     "output_type": "stream",
     "text": [
      "Requirement already satisfied: tabulate in c:\\users\\wasik\\anaconda3\\lib\\site-packages (0.8.9)\n",
      "Note: you may need to restart the kernel to use updated packages.\n"
     ]
    }
   ],
   "source": [
    "pip install tabulate"
   ]
  },
  {
   "cell_type": "code",
   "execution_count": 21,
   "metadata": {},
   "outputs": [
    {
     "name": "stdout",
     "output_type": "stream",
     "text": [
      "********************************************\n",
      "             Manhattan Distance             \n",
      "********************************************\n",
      "╒═════════════════╤═══════════════╤═════════╕\n",
      "│ Distance From   │ Distance to   │   Value │\n",
      "╞═════════════════╪═══════════════╪═════════╡\n",
      "│ P1              │ P2            │     9   │\n",
      "├─────────────────┼───────────────┼─────────┤\n",
      "│ P1              │ P3            │     4.5 │\n",
      "├─────────────────┼───────────────┼─────────┤\n",
      "│ P1              │ P4            │     9   │\n",
      "├─────────────────┼───────────────┼─────────┤\n",
      "│ P1              │ P5            │     5   │\n",
      "├─────────────────┼───────────────┼─────────┤\n",
      "│ P1              │ P6            │     9.5 │\n",
      "├─────────────────┼───────────────┼─────────┤\n",
      "│ P1              │ P7            │     8   │\n",
      "├─────────────────┼───────────────┼─────────┤\n",
      "│ P1              │ P8            │     3.5 │\n",
      "╘═════════════════╧═══════════════╧═════════╛\n"
     ]
    }
   ],
   "source": [
    "print(\"********************************************\")\n",
    "print(\"             Manhattan Distance             \")\n",
    "print(\"********************************************\")\n",
    "manhattan_table = [(\"P1\",\"P2\",manhattanDistance_p1p2),\n",
    "                   (\"P1\",\"P3\",manhattanDistance_p1p3),\n",
    "                   (\"P1\",\"P4\",manhattanDistance_p1p4),\n",
    "                   (\"P1\",\"P5\",manhattanDistance_p1p5),\n",
    "                   (\"P1\",\"P6\",manhattanDistance_p1p6),\n",
    "                   (\"P1\",\"P7\",manhattanDistance_p1p7),\n",
    "                   (\"P1\",\"P8\",manhattanDistance_p1p8),]\n",
    "man_header = [\"Distance From\", \"Distance to\", \"Value\"]\n",
    "print(tabulate(manhattan_table,headers=man_header,tablefmt=\"fancy_grid\"))"
   ]
  },
  {
   "cell_type": "code",
   "execution_count": 22,
   "metadata": {},
   "outputs": [
    {
     "name": "stdout",
     "output_type": "stream",
     "text": [
      "********************************************\n",
      "             Euclidean Distance             \n",
      "********************************************\n",
      "╒═════════════════╤═══════════════╤═════════╕\n",
      "│ Distance From   │ Distance to   │   Value │\n",
      "╞═════════════════╪═══════════════╪═════════╡\n",
      "│ P1              │ P2            │ 4.30116 │\n",
      "├─────────────────┼───────────────┼─────────┤\n",
      "│ P1              │ P3            │ 2.39792 │\n",
      "├─────────────────┼───────────────┼─────────┤\n",
      "│ P1              │ P4            │ 4.41588 │\n",
      "├─────────────────┼───────────────┼─────────┤\n",
      "│ P1              │ P5            │ 2.73861 │\n",
      "├─────────────────┼───────────────┼─────────┤\n",
      "│ P1              │ P6            │ 4.66369 │\n",
      "├─────────────────┼───────────────┼─────────┤\n",
      "│ P1              │ P7            │ 4.12311 │\n",
      "├─────────────────┼───────────────┼─────────┤\n",
      "│ P1              │ P8            │ 1.65831 │\n",
      "╘═════════════════╧═══════════════╧═════════╛\n"
     ]
    }
   ],
   "source": [
    "print(\"********************************************\")\n",
    "print(\"             Euclidean Distance             \")\n",
    "print(\"********************************************\")\n",
    "euc_table =       [(\"P1\",\"P2\",eucDistance_p1p2),\n",
    "                   (\"P1\",\"P3\",eucDistance_p1p3),\n",
    "                   (\"P1\",\"P4\",eucDistance_p1p4),\n",
    "                   (\"P1\",\"P5\",eucDistance_p1p5),\n",
    "                   (\"P1\",\"P6\",eucDistance_p1p6),\n",
    "                   (\"P1\",\"P7\",eucDistance_p1p7),\n",
    "                   (\"P1\",\"P8\",eucDistance_p1p8),]\n",
    "euc_header = [\"Distance From\", \"Distance to\", \"Value\"]\n",
    "print(tabulate(euc_table,headers=euc_header,tablefmt=\"fancy_grid\"))"
   ]
  },
  {
   "cell_type": "code",
   "execution_count": 23,
   "metadata": {},
   "outputs": [
    {
     "name": "stdout",
     "output_type": "stream",
     "text": [
      "********************************************\n",
      "            Minkowski Distance              \n",
      "********************************************\n",
      "╒═════════════════╤═══════════════╤═════════╕\n",
      "│ Distance From   │ Distance to   │   Value │\n",
      "╞═════════════════╪═══════════════╪═════════╡\n",
      "│ P1              │ P2            │ 3.4966  │\n",
      "├─────────────────┼───────────────┼─────────┤\n",
      "│ P1              │ P3            │ 1.98953 │\n",
      "├─────────────────┼───────────────┼─────────┤\n",
      "│ P1              │ P4            │ 3.59598 │\n",
      "├─────────────────┼───────────────┼─────────┤\n",
      "│ P1              │ P5            │ 2.32079 │\n",
      "├─────────────────┼───────────────┼─────────┤\n",
      "│ P1              │ P6            │ 3.78268 │\n",
      "├─────────────────┼───────────────┼─────────┤\n",
      "│ P1              │ P7            │ 3.36198 │\n",
      "├─────────────────┼───────────────┼─────────┤\n",
      "│ P1              │ P8            │ 1.3342  │\n",
      "╘═════════════════╧═══════════════╧═════════╛\n"
     ]
    }
   ],
   "source": [
    "print(\"********************************************\")\n",
    "print(\"            Minkowski Distance              \")\n",
    "print(\"********************************************\")\n",
    "mink_table =      [(\"P1\",\"P2\",minkDistance_p1p2),\n",
    "                   (\"P1\",\"P3\",minkDistance_p1p3),\n",
    "                   (\"P1\",\"P4\",minkDistance_p1p4),\n",
    "                   (\"P1\",\"P5\",minkDistance_p1p5),\n",
    "                   (\"P1\",\"P6\",minkDistance_p1p6),\n",
    "                   (\"P1\",\"P7\",minkDistance_p1p7),\n",
    "                   (\"P1\",\"P8\",minkDistance_p1p8),]\n",
    "mink_header = [\"Distance From\", \"Distance to\", \"Value\"]\n",
    "print(tabulate(mink_table,headers=mink_header,tablefmt=\"fancy_grid\"))"
   ]
  },
  {
   "cell_type": "code",
   "execution_count": 36,
   "metadata": {},
   "outputs": [
    {
     "name": "stdout",
     "output_type": "stream",
     "text": [
      "Collecting PyQt6\n",
      "  Downloading PyQt6-6.0.2-cp36.cp37.cp38.cp39-none-win_amd64.whl (5.2 MB)\n",
      "Collecting PyQt6-sip<14,>=13.0\n",
      "  Downloading PyQt6_sip-13.0.1-cp38-cp38-win_amd64.whl (57 kB)\n",
      "Collecting PyQt6-Qt>=6.0\n",
      "  Downloading PyQt6_Qt-6.0.1-py3-none-win_amd64.whl (42.1 MB)\n",
      "Installing collected packages: PyQt6-sip, PyQt6-Qt, PyQt6\n",
      "Successfully installed PyQt6-6.0.2 PyQt6-Qt-6.0.1 PyQt6-sip-13.0.1Note: you may need to restart the kernel to use updated packages.\n",
      "\n"
     ]
    }
   ],
   "source": [
    "pip install PyQt6"
   ]
  },
  {
   "cell_type": "code",
   "execution_count": null,
   "metadata": {},
   "outputs": [],
   "source": []
  }
 ],
 "metadata": {
  "kernelspec": {
   "display_name": "Python 3",
   "language": "python",
   "name": "python3"
  },
  "language_info": {
   "codemirror_mode": {
    "name": "ipython",
    "version": 3
   },
   "file_extension": ".py",
   "mimetype": "text/x-python",
   "name": "python",
   "nbconvert_exporter": "python",
   "pygments_lexer": "ipython3",
   "version": "3.8.5"
  }
 },
 "nbformat": 4,
 "nbformat_minor": 4
}
