{
 "cells": [
  {
   "cell_type": "markdown",
   "metadata": {},
   "source": [
    "## The dataset we will use in this task is a populated dataset. This dataset contains the agricultural statistics Bangladesh. We will see the covariance and Correlation between climate,soil,fertilizer and production of different crops"
   ]
  },
  {
   "cell_type": "code",
   "execution_count": 27,
   "metadata": {},
   "outputs": [],
   "source": [
    "import pandas as pd\n",
    "import numpy as np\n",
    "import matplotlib.pyplot as plt"
   ]
  },
  {
   "cell_type": "code",
   "execution_count": 28,
   "metadata": {},
   "outputs": [],
   "source": [
    "df = pd.read_csv(\"dataset/Bangladesh_Agriculture.csv\")"
   ]
  },
  {
   "cell_type": "code",
   "execution_count": 29,
   "metadata": {},
   "outputs": [
    {
     "data": {
      "text/html": [
       "<div>\n",
       "<style scoped>\n",
       "    .dataframe tbody tr th:only-of-type {\n",
       "        vertical-align: middle;\n",
       "    }\n",
       "\n",
       "    .dataframe tbody tr th {\n",
       "        vertical-align: top;\n",
       "    }\n",
       "\n",
       "    .dataframe thead th {\n",
       "        text-align: right;\n",
       "    }\n",
       "</style>\n",
       "<table border=\"1\" class=\"dataframe\">\n",
       "  <thead>\n",
       "    <tr style=\"text-align: right;\">\n",
       "      <th></th>\n",
       "      <th>District</th>\n",
       "      <th>year</th>\n",
       "      <th>avg_rainfall</th>\n",
       "      <th>max_temperature</th>\n",
       "      <th>min_temperature</th>\n",
       "      <th>aus</th>\n",
       "      <th>aman</th>\n",
       "      <th>boro</th>\n",
       "      <th>wheat</th>\n",
       "      <th>potato</th>\n",
       "      <th>...</th>\n",
       "      <th>inundationland_Highland</th>\n",
       "      <th>inundationland_mediumhighland</th>\n",
       "      <th>inundationland_lowland</th>\n",
       "      <th>inundationland_mediumlowland</th>\n",
       "      <th>Miscellaneous Land</th>\n",
       "      <th>Noncalcareous Alluvium</th>\n",
       "      <th>Acid Basin Clay</th>\n",
       "      <th>Noncalcareous Grey Floodplain Soil</th>\n",
       "      <th>Noncalcareous Dark Grey Floodplain Soil</th>\n",
       "      <th>soil_moisture</th>\n",
       "    </tr>\n",
       "  </thead>\n",
       "  <tbody>\n",
       "    <tr>\n",
       "      <th>0</th>\n",
       "      <td>dhaka</td>\n",
       "      <td>2008</td>\n",
       "      <td>2385</td>\n",
       "      <td>34.2</td>\n",
       "      <td>12.5</td>\n",
       "      <td>804</td>\n",
       "      <td>9691</td>\n",
       "      <td>233939</td>\n",
       "      <td>1129</td>\n",
       "      <td>33679</td>\n",
       "      <td>...</td>\n",
       "      <td>30118</td>\n",
       "      <td>32245</td>\n",
       "      <td>20539</td>\n",
       "      <td>41335</td>\n",
       "      <td>30137</td>\n",
       "      <td>6782</td>\n",
       "      <td>6253</td>\n",
       "      <td>87891</td>\n",
       "      <td>1876</td>\n",
       "      <td>124237</td>\n",
       "    </tr>\n",
       "    <tr>\n",
       "      <th>1</th>\n",
       "      <td>gazipur</td>\n",
       "      <td>2008</td>\n",
       "      <td>2197</td>\n",
       "      <td>30.2</td>\n",
       "      <td>19.5</td>\n",
       "      <td>4328</td>\n",
       "      <td>93956</td>\n",
       "      <td>208434</td>\n",
       "      <td>479</td>\n",
       "      <td>4300</td>\n",
       "      <td>...</td>\n",
       "      <td>88346</td>\n",
       "      <td>30449</td>\n",
       "      <td>15220</td>\n",
       "      <td>20654</td>\n",
       "      <td>16542</td>\n",
       "      <td>648</td>\n",
       "      <td>28245</td>\n",
       "      <td>14655</td>\n",
       "      <td>4899</td>\n",
       "      <td>154669</td>\n",
       "    </tr>\n",
       "    <tr>\n",
       "      <th>2</th>\n",
       "      <td>narsingdi</td>\n",
       "      <td>2008</td>\n",
       "      <td>2197</td>\n",
       "      <td>34.2</td>\n",
       "      <td>12.5</td>\n",
       "      <td>484</td>\n",
       "      <td>93958</td>\n",
       "      <td>207669</td>\n",
       "      <td>2073</td>\n",
       "      <td>14323</td>\n",
       "      <td>...</td>\n",
       "      <td>23779</td>\n",
       "      <td>27893</td>\n",
       "      <td>22923</td>\n",
       "      <td>20368</td>\n",
       "      <td>20574</td>\n",
       "      <td>8247</td>\n",
       "      <td>4942</td>\n",
       "      <td>41976</td>\n",
       "      <td>27689</td>\n",
       "      <td>94963</td>\n",
       "    </tr>\n",
       "    <tr>\n",
       "      <th>3</th>\n",
       "      <td>narayangonj</td>\n",
       "      <td>2008</td>\n",
       "      <td>2197</td>\n",
       "      <td>34.2</td>\n",
       "      <td>12.2</td>\n",
       "      <td>1617</td>\n",
       "      <td>14485</td>\n",
       "      <td>129390</td>\n",
       "      <td>4585</td>\n",
       "      <td>73525</td>\n",
       "      <td>...</td>\n",
       "      <td>9076</td>\n",
       "      <td>13243</td>\n",
       "      <td>14834</td>\n",
       "      <td>22629</td>\n",
       "      <td>15871</td>\n",
       "      <td>2396</td>\n",
       "      <td>3263</td>\n",
       "      <td>18095</td>\n",
       "      <td>26925</td>\n",
       "      <td>59782</td>\n",
       "    </tr>\n",
       "    <tr>\n",
       "      <th>4</th>\n",
       "      <td>tangail</td>\n",
       "      <td>2008</td>\n",
       "      <td>1856</td>\n",
       "      <td>34.1</td>\n",
       "      <td>10.2</td>\n",
       "      <td>447</td>\n",
       "      <td>170918</td>\n",
       "      <td>672851</td>\n",
       "      <td>17477</td>\n",
       "      <td>56693</td>\n",
       "      <td>...</td>\n",
       "      <td>91012</td>\n",
       "      <td>133622</td>\n",
       "      <td>66018</td>\n",
       "      <td>15887</td>\n",
       "      <td>31462</td>\n",
       "      <td>28897</td>\n",
       "      <td>7786</td>\n",
       "      <td>128008</td>\n",
       "      <td>47714</td>\n",
       "      <td>306539</td>\n",
       "    </tr>\n",
       "  </tbody>\n",
       "</table>\n",
       "<p>5 rows × 27 columns</p>\n",
       "</div>"
      ],
      "text/plain": [
       "      District  year  avg_rainfall  max_temperature  min_temperature   aus  \\\n",
       "0        dhaka  2008          2385             34.2             12.5   804   \n",
       "1      gazipur  2008          2197             30.2             19.5  4328   \n",
       "2    narsingdi  2008          2197             34.2             12.5   484   \n",
       "3  narayangonj  2008          2197             34.2             12.2  1617   \n",
       "4      tangail  2008          1856             34.1             10.2   447   \n",
       "\n",
       "     aman    boro  wheat  potato  ...  inundationland_Highland  \\\n",
       "0    9691  233939   1129   33679  ...                    30118   \n",
       "1   93956  208434    479    4300  ...                    88346   \n",
       "2   93958  207669   2073   14323  ...                    23779   \n",
       "3   14485  129390   4585   73525  ...                     9076   \n",
       "4  170918  672851  17477   56693  ...                    91012   \n",
       "\n",
       "   inundationland_mediumhighland inundationland_lowland  \\\n",
       "0                          32245                  20539   \n",
       "1                          30449                  15220   \n",
       "2                          27893                  22923   \n",
       "3                          13243                  14834   \n",
       "4                         133622                  66018   \n",
       "\n",
       "   inundationland_mediumlowland  Miscellaneous Land  Noncalcareous Alluvium  \\\n",
       "0                         41335               30137                    6782   \n",
       "1                         20654               16542                     648   \n",
       "2                         20368               20574                    8247   \n",
       "3                         22629               15871                    2396   \n",
       "4                         15887               31462                   28897   \n",
       "\n",
       "   Acid Basin Clay  Noncalcareous Grey Floodplain Soil  \\\n",
       "0             6253                               87891   \n",
       "1            28245                               14655   \n",
       "2             4942                               41976   \n",
       "3             3263                               18095   \n",
       "4             7786                              128008   \n",
       "\n",
       "   Noncalcareous Dark Grey Floodplain Soil  soil_moisture  \n",
       "0                                     1876         124237  \n",
       "1                                     4899         154669  \n",
       "2                                    27689          94963  \n",
       "3                                    26925          59782  \n",
       "4                                    47714         306539  \n",
       "\n",
       "[5 rows x 27 columns]"
      ]
     },
     "execution_count": 29,
     "metadata": {},
     "output_type": "execute_result"
    }
   ],
   "source": [
    "df.head()"
   ]
  },
  {
   "cell_type": "markdown",
   "metadata": {},
   "source": [
    "### We will see how \"Soil Moisture\" affects the production of \"Aman\" rice crop.  "
   ]
  },
  {
   "cell_type": "code",
   "execution_count": 51,
   "metadata": {},
   "outputs": [
    {
     "data": {
      "image/png": "[encoded data removed]",
      "text/plain": [
       "<Figure size 432x288 with 1 Axes>"
      ]
     },
     "metadata": {
      "needs_background": "light"
     },
     "output_type": "display_data"
    }
   ],
   "source": [
    "plt.scatter(df.soil_moisture, df.aman, alpha=0.5)\n",
    "plt.xlabel('Soil Moisture')\n",
    "plt.ylabel('Aman Crop')\n",
    "plt.show()"
   ]
  },
  {
   "cell_type": "markdown",
   "metadata": {},
   "source": [
    "### The scatter plot suggest positive correlations between the entities. We will furthure analyze with covariance and correlation metrics. "
   ]
  },
  {
   "cell_type": "code",
   "execution_count": 52,
   "metadata": {},
   "outputs": [],
   "source": [
    "cov = np.cov(df.soil_moisture,df.aman)"
   ]
  },
  {
   "cell_type": "code",
   "execution_count": 53,
   "metadata": {},
   "outputs": [
    {
     "name": "stdout",
     "output_type": "stream",
     "text": [
      "19237027309.731674\n"
     ]
    }
   ],
   "source": [
    "print(cov[0,1])"
   ]
  },
  {
   "cell_type": "code",
   "execution_count": 54,
   "metadata": {},
   "outputs": [
    {
     "name": "stdout",
     "output_type": "stream",
     "text": [
      "0.8869301506057521\n"
     ]
    }
   ],
   "source": [
    "def pearson(x,y):\n",
    "    corr_matrix=np.corrcoef(x,y)\n",
    "    return  corr_matrix[0,1]\n",
    "r = pearson(df.soil_moisture,df.aman)\n",
    "print(r)"
   ]
  },
  {
   "cell_type": "markdown",
   "metadata": {},
   "source": [
    "## The correlation value between \"Soil Moisture\" and \"Aman\" crop is 0.8869301506057521. This shows there is a strong linear correlation. "
   ]
  },
  {
   "cell_type": "code",
   "execution_count": null,
   "metadata": {},
   "outputs": [],
   "source": []
  }
 ],
 "metadata": {
  "kernelspec": {
   "display_name": "Python 3",
   "language": "python",
   "name": "python3"
  },
  "language_info": {
   "codemirror_mode": {
    "name": "ipython",
    "version": 3
   },
   "file_extension": ".py",
   "mimetype": "text/x-python",
   "name": "python",
   "nbconvert_exporter": "python",
   "pygments_lexer": "ipython3",
   "version": "3.8.5"
  }
 },
 "nbformat": 4,
 "nbformat_minor": 4
}
